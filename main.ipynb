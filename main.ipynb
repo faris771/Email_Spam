{
 "cells": [
  {
   "cell_type": "code",
   "execution_count": 5,
   "outputs": [],
   "source": [
    "import numpy as np\n",
    "import csv\n",
    "import sys\n",
    "\n",
    "import pandas as pd\n",
    "from sklearn.model_selection import train_test_split\n",
    "from sklearn.neighbors import KNeighborsClassifier\n",
    "from sklearn.metrics import confusion_matrix\n",
    "from sklearn.metrics import f1_score\n",
    "from sklearn.metrics import accuracy_score\n",
    "from sklearn.neural_network import MLPClassifier\n"
   ],
   "metadata": {
    "collapsed": false
   }
  },
  {
   "cell_type": "code",
   "execution_count": null,
   "outputs": [],
   "source": [
    "\n",
    "TEST_SIZE = 0.3\n",
    "K = 3\n",
    "\n",
    "class NN:\n",
    "    def __init__(self, trainingFeatures, trainingLabels) -> None:\n",
    "        self.trainingFeatures = trainingFeatures\n",
    "        self.trainingLabels = trainingLabels\n",
    "\n",
    "    def predict(self, features, k):\n",
    "        \"\"\"\n",
    "        Given a list of features vectors of testing examples\n",
    "        return the predicted class labels (list of either 0s or 1s)\n",
    "        using the k nearest neighbors\n",
    "        \"\"\"\n",
    "        raise NotImplementedError"
   ],
   "metadata": {
    "collapsed": false
   }
  },
  {
   "cell_type": "code",
   "execution_count": 10,
   "outputs": [
    {
     "name": "stdout",
     "output_type": "stream",
     "text": [
      "      0  0.64  0.64.1  0.1  0.32   0.2   0.3   0.4   0.5   0.6  ...  0.41   \n",
      "0  0.21  0.28    0.50  0.0  0.14  0.28  0.21  0.07  0.00  0.94  ...  0.00  \\\n",
      "1  0.06  0.00    0.71  0.0  1.23  0.19  0.19  0.12  0.64  0.25  ...  0.01   \n",
      "2  0.00  0.00    0.00  0.0  0.63  0.00  0.31  0.63  0.31  0.63  ...  0.00   \n",
      "3  0.00  0.00    0.00  0.0  0.63  0.00  0.31  0.63  0.31  0.63  ...  0.00   \n",
      "4  0.00  0.00    0.00  0.0  1.85  0.00  0.00  1.85  0.00  0.00  ...  0.00   \n",
      "\n",
      "    0.42  0.43  0.778   0.44   0.45  3.756   61   278  1  \n",
      "0  0.132   0.0  0.372  0.180  0.048  5.114  101  1028  1  \n",
      "1  0.143   0.0  0.276  0.184  0.010  9.821  485  2259  1  \n",
      "2  0.137   0.0  0.137  0.000  0.000  3.537   40   191  1  \n",
      "3  0.135   0.0  0.135  0.000  0.000  3.537   40   191  1  \n",
      "4  0.223   0.0  0.000  0.000  0.000  3.000   15    54  1  \n",
      "\n",
      "[5 rows x 58 columns]\n"
     ]
    }
   ],
   "source": [
    "\n",
    "\n",
    "def load_data(filename):\n",
    "    df = pd.read_csv(filename) # data frame\n",
    "    print(df.head())\n",
    "\n",
    "    \"\"\"\n",
    "    Load spam data from a CSV file `filename` and convert into a list of\n",
    "    features vectors and a list of target labels. Return a tuple (features, labels).\n",
    "\n",
    "    features vectors should be a list of lists, where each list contains the\n",
    "    57 features vectors\n",
    "\n",
    "    labels should be the corresponding list of labels, where each label\n",
    "    is 1 if spam, and 0 otherwise.\n",
    "    \"\"\"\n",
    "load_data('spambase.csv')"
   ],
   "metadata": {
    "collapsed": false
   }
  },
  {
   "cell_type": "code",
   "execution_count": 3,
   "outputs": [
    {
     "ename": "NameError",
     "evalue": "name 'spambase' is not defined",
     "output_type": "error",
     "traceback": [
      "\u001B[1;31m---------------------------------------------------------------------------\u001B[0m",
      "\u001B[1;31mNameError\u001B[0m                                 Traceback (most recent call last)",
      "Cell \u001B[1;32mIn[3], line 15\u001B[0m\n\u001B[0;32m      3\u001B[0m     \u001B[38;5;28mprint\u001B[39m(df\u001B[38;5;241m.\u001B[39mhead(\u001B[38;5;241m10\u001B[39m)\u001B[38;5;241m.\u001B[39mto_string())\n\u001B[0;32m      5\u001B[0m \u001B[38;5;250m    \u001B[39m\u001B[38;5;124;03m\"\"\"\u001B[39;00m\n\u001B[0;32m      6\u001B[0m \u001B[38;5;124;03m    Load spam data from a CSV file `filename` and convert into a list of\u001B[39;00m\n\u001B[0;32m      7\u001B[0m \u001B[38;5;124;03m    features vectors and a list of target labels. Return a tuple (features, labels).\u001B[39;00m\n\u001B[1;32m   (...)\u001B[0m\n\u001B[0;32m     13\u001B[0m \u001B[38;5;124;03m    is 1 if spam, and 0 otherwise.\u001B[39;00m\n\u001B[0;32m     14\u001B[0m \u001B[38;5;124;03m    \"\"\"\u001B[39;00m\n\u001B[1;32m---> 15\u001B[0m load_data(\u001B[43mspambase\u001B[49m\u001B[38;5;241m.\u001B[39mcsv)\n\u001B[0;32m     18\u001B[0m \u001B[38;5;28;01mdef\u001B[39;00m \u001B[38;5;21mpreprocess\u001B[39m(features):\n\u001B[0;32m     19\u001B[0m \u001B[38;5;250m    \u001B[39m\u001B[38;5;124;03m\"\"\"\u001B[39;00m\n\u001B[0;32m     20\u001B[0m \u001B[38;5;124;03m    normalize each feature by subtracting the mean value in each\u001B[39;00m\n\u001B[0;32m     21\u001B[0m \u001B[38;5;124;03m    feature and dividing by the standard deviation\u001B[39;00m\n\u001B[0;32m     22\u001B[0m \u001B[38;5;124;03m    \"\"\"\u001B[39;00m\n",
      "\u001B[1;31mNameError\u001B[0m: name 'spambase' is not defined"
     ]
    }
   ],
   "source": [
    "\n",
    "\n",
    "\n",
    "def preprocess(features):\n",
    "    \"\"\"\n",
    "    normalize each feature by subtracting the mean value in each\n",
    "    feature and dividing by the standard deviation\n",
    "    \"\"\"\n",
    "    raise NotImplementedError\n",
    "\n",
    "def train_mlp_model(features, labels):\n",
    "    \"\"\"\n",
    "    Given a list of features lists and a list of labels, return a\n",
    "    fitted MLP model trained on the data using sklearn implementation.\n",
    "    \"\"\"\n",
    "    raise NotImplementedError\n",
    "\n",
    "\n",
    "def evaluate(labels, predictions):\n",
    "    \"\"\"\n",
    "    Given a list of actual labels and a list of predicted labels,\n",
    "    return (accuracy, precision, recall, f1).\n",
    "\n",
    "    Assume each label is either a 1 (positive) or 0 (negative).\n",
    "    \"\"\"\n",
    "    raise NotImplementedError\n"
   ],
   "metadata": {
    "collapsed": false
   }
  },
  {
   "cell_type": "code",
   "execution_count": null,
   "outputs": [],
   "source": [
    "\n",
    "\n",
    "def main():\n",
    "\n",
    "    # Check command-line arguments\n",
    "    if len(sys.argv) != 2:\n",
    "        sys.exit(\"Usage: python template.py ./spambase.csv\")\n",
    "\n",
    "    # Load data from spreadsheet and split into train and test sets\n",
    "    features, labels = load_data(sys.argv[1])\n",
    "    features = preprocess(features)\n",
    "    X_train, X_test, y_train, y_test = train_test_split(\n",
    "        features, labels, test_size=TEST_SIZE)\n",
    "\n",
    "    # Train a k-NN model and make predictions\n",
    "    model_nn = NN(X_train, y_train)\n",
    "    predictions = model_nn.predict(X_test, K)\n",
    "    accuracy, precision, recall, f1 = evaluate(y_test, predictions)\n",
    "\n",
    "    # Print results\n",
    "    print(\"**** 1-Nearest Neighbor Results ****\")\n",
    "    print(\"Accuracy: \", accuracy)\n",
    "    print(\"Precision: \", precision)\n",
    "    print(\"Recall: \", recall)\n",
    "    print(\"F1: \", f1)\n",
    "\n",
    "    # Train an MLP model and make predictions\n",
    "    model = train_mlp_model(X_train, y_train)\n",
    "    predictions = model.predict(X_test)\n",
    "    accuracy, precision, recall, f1 = evaluate(y_test, predictions)\n",
    "\n",
    "    # Print results\n",
    "    print(\"**** MLP Results ****\")\n",
    "    print(\"Accuracy: \", accuracy)\n",
    "    print(\"Precision: \", precision)\n",
    "    print(\"Recall: \", recall)\n",
    "    print(\"F1: \", f1)\n",
    "\n"
   ],
   "metadata": {
    "collapsed": false
   }
  },
  {
   "cell_type": "code",
   "execution_count": 74,
   "outputs": [],
   "source": [
    "hdec = [0x11, 0x22, 0x33, 0x44, 0x55, 0x66, 0x77, 0x88,\n",
    "0x11, 0x22, 0x33, 0x44, 0x55, 0x66, 0x77, 0x88,\n",
    "0x11, 0x22, 0x33, 0x44, 0x55, 0x66, 0x77, 0x88,\n",
    "0xaa, 0xbb, 0xcc, 0xdd, 0xee]\n"
   ],
   "metadata": {
    "collapsed": false
   }
  },
  {
   "cell_type": "code",
   "execution_count": 77,
   "outputs": [],
   "source": [
    "\n",
    "if __name__ == \"__main__\":\n",
    "    main()"
   ],
   "metadata": {
    "collapsed": false
   }
  }
 ],
 "metadata": {
  "kernelspec": {
   "display_name": "Python 3",
   "language": "python",
   "name": "python3"
  },
  "language_info": {
   "codemirror_mode": {
    "name": "ipython",
    "version": 2
   },
   "file_extension": ".py",
   "mimetype": "text/x-python",
   "name": "python",
   "nbconvert_exporter": "python",
   "pygments_lexer": "ipython2",
   "version": "2.7.6"
  }
 },
 "nbformat": 4,
 "nbformat_minor": 0
}
